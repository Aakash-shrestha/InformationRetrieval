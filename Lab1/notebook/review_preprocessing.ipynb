{
 "cells": [
  {
   "cell_type": "code",
   "execution_count": null,
   "id": "6e856664",
   "metadata": {},
   "outputs": [
    {
     "ename": "",
     "evalue": "",
     "output_type": "error",
     "traceback": [
      "\u001b[1;31mFailed to start the Kernel. \n",
      "\u001b[1;31mUnable to start Kernel 'env (Python 3.11.3)' due to a timeout waiting for the ports to get used. \n",
      "\u001b[1;31mView Jupyter <a href='command:jupyter.viewOutput'>log</a> for further details."
     ]
    }
   ],
   "source": [
    "import pandas as pd\n",
    "\n",
    "df = pd.read_csv(\"../data/imdb_dataset.csv\")\n",
    "print(df.columns)\n",
    "\n",
    "df = df[['review', 'sentiment']].dropna()\n",
    "\n",
    "#select only first 1000 data from dataset\n",
    "df = df[:1000]\n",
    "print(len(df))\n",
    "df.head()"
   ]
  },
  {
   "cell_type": "code",
   "execution_count": null,
   "id": "c736d31a",
   "metadata": {},
   "outputs": [],
   "source": [
    "#resources for NLTK and spaCy\n",
    "import nltk\n",
    "nltk.download('punkt')\n",
    "nltk.download('stopwords')\n",
    "nltk.download('wordnet')\n",
    "nltk.download('punkt_tab')\n",
    "\n",
    "import spacy\n"
   ]
  },
  {
   "cell_type": "code",
   "execution_count": null,
   "id": "7aaddd34",
   "metadata": {},
   "outputs": [],
   "source": [
    "#tokenization\n",
    "import nltk\n",
    "from nltk.tokenize import word_tokenize\n",
    "\n",
    "df['tokens'] = df['review'].apply(lambda x: word_tokenize(x))\n",
    "df.head(10)"
   ]
  },
  {
   "cell_type": "code",
   "execution_count": null,
   "id": "e5daf0d9",
   "metadata": {},
   "outputs": [],
   "source": [
    "#case folding\n",
    "df['tokens_lower'] = df['tokens'].apply(lambda x: [word.lower() for word in x])\n",
    "df.head()"
   ]
  },
  {
   "cell_type": "code",
   "execution_count": null,
   "id": "37f0fd43",
   "metadata": {},
   "outputs": [],
   "source": [
    "#stop word removal\n",
    "from nltk.corpus import stopwords\n",
    "\n",
    "stopwords = set(stopwords.words('english'))\n",
    "print(len(stopwords))\n",
    "\n",
    "df['tokens_nostopwords'] = df['tokens_lower'].apply(lambda x: [word for word in  x if word.isalpha() and word not in stopwords]);\n",
    "df['tokens_nostopwords'].head(20)"
   ]
  },
  {
   "cell_type": "code",
   "execution_count": null,
   "id": "4cbfdcb1",
   "metadata": {},
   "outputs": [],
   "source": [
    "#stemming\n",
    "\n",
    "from nltk.stem import PorterStemmer\n",
    "stemmer = PorterStemmer()\n",
    "df['tokens_stemmed'] = df['tokens_nostopwords'].apply(lambda x: [stemmer.stem(word) for word in x])\n",
    "df['tokens_stemmed'].head(10)"
   ]
  },
  {
   "cell_type": "code",
   "execution_count": null,
   "id": "aae0af1c",
   "metadata": {},
   "outputs": [],
   "source": [
    "#Lemmatization\n",
    "from nltk.stem import WordNetLemmatizer\n",
    "\n",
    "lemmatizer = WordNetLemmatizer()\n",
    "df['tokens_lemmatized'] = df['tokens_nostopwords'].apply(lambda x: [lemmatizer.lemmatize(word) for word in x])\n",
    "df.head(10)"
   ]
  }
 ],
 "metadata": {
  "kernelspec": {
   "display_name": "env",
   "language": "python",
   "name": "python3"
  },
  "language_info": {
   "codemirror_mode": {
    "name": "ipython",
    "version": 3
   },
   "file_extension": ".py",
   "mimetype": "text/x-python",
   "name": "python",
   "nbconvert_exporter": "python",
   "pygments_lexer": "ipython3",
   "version": "3.11.3"
  }
 },
 "nbformat": 4,
 "nbformat_minor": 5
}
