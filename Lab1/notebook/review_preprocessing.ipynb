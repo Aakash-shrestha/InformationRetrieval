{
 "cells": [
  {
   "cell_type": "code",
   "execution_count": 18,
   "id": "6e856664",
   "metadata": {},
   "outputs": [
    {
     "name": "stdout",
     "output_type": "stream",
     "text": [
      "Index(['review', 'sentiment'], dtype='object')\n",
      "1000\n"
     ]
    },
    {
     "data": {
      "text/html": [
       "<div>\n",
       "<style scoped>\n",
       "    .dataframe tbody tr th:only-of-type {\n",
       "        vertical-align: middle;\n",
       "    }\n",
       "\n",
       "    .dataframe tbody tr th {\n",
       "        vertical-align: top;\n",
       "    }\n",
       "\n",
       "    .dataframe thead th {\n",
       "        text-align: right;\n",
       "    }\n",
       "</style>\n",
       "<table border=\"1\" class=\"dataframe\">\n",
       "  <thead>\n",
       "    <tr style=\"text-align: right;\">\n",
       "      <th></th>\n",
       "      <th>review</th>\n",
       "      <th>sentiment</th>\n",
       "    </tr>\n",
       "  </thead>\n",
       "  <tbody>\n",
       "    <tr>\n",
       "      <th>0</th>\n",
       "      <td>One of the other reviewers has mentioned that ...</td>\n",
       "      <td>positive</td>\n",
       "    </tr>\n",
       "    <tr>\n",
       "      <th>1</th>\n",
       "      <td>A wonderful little production. &lt;br /&gt;&lt;br /&gt;The...</td>\n",
       "      <td>positive</td>\n",
       "    </tr>\n",
       "    <tr>\n",
       "      <th>2</th>\n",
       "      <td>I thought this was a wonderful way to spend ti...</td>\n",
       "      <td>positive</td>\n",
       "    </tr>\n",
       "    <tr>\n",
       "      <th>3</th>\n",
       "      <td>Basically there's a family where a little boy ...</td>\n",
       "      <td>negative</td>\n",
       "    </tr>\n",
       "    <tr>\n",
       "      <th>4</th>\n",
       "      <td>Petter Mattei's \"Love in the Time of Money\" is...</td>\n",
       "      <td>positive</td>\n",
       "    </tr>\n",
       "  </tbody>\n",
       "</table>\n",
       "</div>"
      ],
      "text/plain": [
       "                                              review sentiment\n",
       "0  One of the other reviewers has mentioned that ...  positive\n",
       "1  A wonderful little production. <br /><br />The...  positive\n",
       "2  I thought this was a wonderful way to spend ti...  positive\n",
       "3  Basically there's a family where a little boy ...  negative\n",
       "4  Petter Mattei's \"Love in the Time of Money\" is...  positive"
      ]
     },
     "execution_count": 18,
     "metadata": {},
     "output_type": "execute_result"
    }
   ],
   "source": [
    "import pandas as pd\n",
    "\n",
    "df = pd.read_csv(\"../data/imdb_dataset.csv\")\n",
    "print(df.columns)\n",
    "\n",
    "df = df[['review', 'sentiment']].dropna()\n",
    "\n",
    "#select only first 1000 data from dataset\n",
    "df = df[:1000]\n",
    "print(len(df))\n",
    "df.head()"
   ]
  },
  {
   "cell_type": "code",
   "execution_count": 19,
   "id": "c736d31a",
   "metadata": {},
   "outputs": [
    {
     "name": "stderr",
     "output_type": "stream",
     "text": [
      "[nltk_data] Downloading package punkt to\n",
      "[nltk_data]     /Users/aakashshrestha/nltk_data...\n",
      "[nltk_data]   Package punkt is already up-to-date!\n",
      "[nltk_data] Downloading package stopwords to\n",
      "[nltk_data]     /Users/aakashshrestha/nltk_data...\n",
      "[nltk_data]   Package stopwords is already up-to-date!\n",
      "[nltk_data] Downloading package wordnet to\n",
      "[nltk_data]     /Users/aakashshrestha/nltk_data...\n",
      "[nltk_data]   Package wordnet is already up-to-date!\n",
      "[nltk_data] Downloading package punkt_tab to\n",
      "[nltk_data]     /Users/aakashshrestha/nltk_data...\n",
      "[nltk_data]   Package punkt_tab is already up-to-date!\n"
     ]
    }
   ],
   "source": [
    "#resources for NLTK and spaCy\n",
    "import nltk\n",
    "nltk.download('punkt')\n",
    "nltk.download('stopwords')\n",
    "nltk.download('wordnet')\n",
    "nltk.download('punkt_tab')\n",
    "\n",
    "import spacy\n"
   ]
  },
  {
   "cell_type": "code",
   "execution_count": 20,
   "id": "1c09773d",
   "metadata": {},
   "outputs": [],
   "source": [
    "#remove <br> </br> from the data\n",
    "df['review'] = df['review'].str.replace(r'<br\\s*/?>', '', regex=True)"
   ]
  },
  {
   "cell_type": "code",
   "execution_count": 21,
   "id": "7aaddd34",
   "metadata": {},
   "outputs": [
    {
     "data": {
      "text/html": [
       "<div>\n",
       "<style scoped>\n",
       "    .dataframe tbody tr th:only-of-type {\n",
       "        vertical-align: middle;\n",
       "    }\n",
       "\n",
       "    .dataframe tbody tr th {\n",
       "        vertical-align: top;\n",
       "    }\n",
       "\n",
       "    .dataframe thead th {\n",
       "        text-align: right;\n",
       "    }\n",
       "</style>\n",
       "<table border=\"1\" class=\"dataframe\">\n",
       "  <thead>\n",
       "    <tr style=\"text-align: right;\">\n",
       "      <th></th>\n",
       "      <th>review</th>\n",
       "      <th>sentiment</th>\n",
       "      <th>tokens</th>\n",
       "    </tr>\n",
       "  </thead>\n",
       "  <tbody>\n",
       "    <tr>\n",
       "      <th>0</th>\n",
       "      <td>One of the other reviewers has mentioned that ...</td>\n",
       "      <td>positive</td>\n",
       "      <td>[One, of, the, other, reviewers, has, mentione...</td>\n",
       "    </tr>\n",
       "    <tr>\n",
       "      <th>1</th>\n",
       "      <td>A wonderful little production. The filming tec...</td>\n",
       "      <td>positive</td>\n",
       "      <td>[A, wonderful, little, production, ., The, fil...</td>\n",
       "    </tr>\n",
       "    <tr>\n",
       "      <th>2</th>\n",
       "      <td>I thought this was a wonderful way to spend ti...</td>\n",
       "      <td>positive</td>\n",
       "      <td>[I, thought, this, was, a, wonderful, way, to,...</td>\n",
       "    </tr>\n",
       "    <tr>\n",
       "      <th>3</th>\n",
       "      <td>Basically there's a family where a little boy ...</td>\n",
       "      <td>negative</td>\n",
       "      <td>[Basically, there, 's, a, family, where, a, li...</td>\n",
       "    </tr>\n",
       "    <tr>\n",
       "      <th>4</th>\n",
       "      <td>Petter Mattei's \"Love in the Time of Money\" is...</td>\n",
       "      <td>positive</td>\n",
       "      <td>[Petter, Mattei, 's, ``, Love, in, the, Time, ...</td>\n",
       "    </tr>\n",
       "    <tr>\n",
       "      <th>5</th>\n",
       "      <td>Probably my all-time favorite movie, a story o...</td>\n",
       "      <td>positive</td>\n",
       "      <td>[Probably, my, all-time, favorite, movie, ,, a...</td>\n",
       "    </tr>\n",
       "    <tr>\n",
       "      <th>6</th>\n",
       "      <td>I sure would like to see a resurrection of a u...</td>\n",
       "      <td>positive</td>\n",
       "      <td>[I, sure, would, like, to, see, a, resurrectio...</td>\n",
       "    </tr>\n",
       "    <tr>\n",
       "      <th>7</th>\n",
       "      <td>This show was an amazing, fresh &amp; innovative i...</td>\n",
       "      <td>negative</td>\n",
       "      <td>[This, show, was, an, amazing, ,, fresh, &amp;, in...</td>\n",
       "    </tr>\n",
       "    <tr>\n",
       "      <th>8</th>\n",
       "      <td>Encouraged by the positive comments about this...</td>\n",
       "      <td>negative</td>\n",
       "      <td>[Encouraged, by, the, positive, comments, abou...</td>\n",
       "    </tr>\n",
       "    <tr>\n",
       "      <th>9</th>\n",
       "      <td>If you like original gut wrenching laughter yo...</td>\n",
       "      <td>positive</td>\n",
       "      <td>[If, you, like, original, gut, wrenching, laug...</td>\n",
       "    </tr>\n",
       "  </tbody>\n",
       "</table>\n",
       "</div>"
      ],
      "text/plain": [
       "                                              review  ...                                             tokens\n",
       "0  One of the other reviewers has mentioned that ...  ...  [One, of, the, other, reviewers, has, mentione...\n",
       "1  A wonderful little production. The filming tec...  ...  [A, wonderful, little, production, ., The, fil...\n",
       "2  I thought this was a wonderful way to spend ti...  ...  [I, thought, this, was, a, wonderful, way, to,...\n",
       "3  Basically there's a family where a little boy ...  ...  [Basically, there, 's, a, family, where, a, li...\n",
       "4  Petter Mattei's \"Love in the Time of Money\" is...  ...  [Petter, Mattei, 's, ``, Love, in, the, Time, ...\n",
       "5  Probably my all-time favorite movie, a story o...  ...  [Probably, my, all-time, favorite, movie, ,, a...\n",
       "6  I sure would like to see a resurrection of a u...  ...  [I, sure, would, like, to, see, a, resurrectio...\n",
       "7  This show was an amazing, fresh & innovative i...  ...  [This, show, was, an, amazing, ,, fresh, &, in...\n",
       "8  Encouraged by the positive comments about this...  ...  [Encouraged, by, the, positive, comments, abou...\n",
       "9  If you like original gut wrenching laughter yo...  ...  [If, you, like, original, gut, wrenching, laug...\n",
       "\n",
       "[10 rows x 3 columns]"
      ]
     },
     "execution_count": 21,
     "metadata": {},
     "output_type": "execute_result"
    }
   ],
   "source": [
    "#tokenization\n",
    "import nltk\n",
    "from nltk.tokenize import word_tokenize\n",
    "\n",
    "df['tokens'] = df['review'].apply(lambda x: word_tokenize(x))\n",
    "df.head(10)"
   ]
  },
  {
   "cell_type": "code",
   "execution_count": 22,
   "id": "e5daf0d9",
   "metadata": {},
   "outputs": [
    {
     "data": {
      "text/html": [
       "<div>\n",
       "<style scoped>\n",
       "    .dataframe tbody tr th:only-of-type {\n",
       "        vertical-align: middle;\n",
       "    }\n",
       "\n",
       "    .dataframe tbody tr th {\n",
       "        vertical-align: top;\n",
       "    }\n",
       "\n",
       "    .dataframe thead th {\n",
       "        text-align: right;\n",
       "    }\n",
       "</style>\n",
       "<table border=\"1\" class=\"dataframe\">\n",
       "  <thead>\n",
       "    <tr style=\"text-align: right;\">\n",
       "      <th></th>\n",
       "      <th>review</th>\n",
       "      <th>sentiment</th>\n",
       "      <th>tokens</th>\n",
       "      <th>tokens_lower</th>\n",
       "    </tr>\n",
       "  </thead>\n",
       "  <tbody>\n",
       "    <tr>\n",
       "      <th>0</th>\n",
       "      <td>One of the other reviewers has mentioned that ...</td>\n",
       "      <td>positive</td>\n",
       "      <td>[One, of, the, other, reviewers, has, mentione...</td>\n",
       "      <td>[one, of, the, other, reviewers, has, mentione...</td>\n",
       "    </tr>\n",
       "    <tr>\n",
       "      <th>1</th>\n",
       "      <td>A wonderful little production. The filming tec...</td>\n",
       "      <td>positive</td>\n",
       "      <td>[A, wonderful, little, production, ., The, fil...</td>\n",
       "      <td>[a, wonderful, little, production, ., the, fil...</td>\n",
       "    </tr>\n",
       "    <tr>\n",
       "      <th>2</th>\n",
       "      <td>I thought this was a wonderful way to spend ti...</td>\n",
       "      <td>positive</td>\n",
       "      <td>[I, thought, this, was, a, wonderful, way, to,...</td>\n",
       "      <td>[i, thought, this, was, a, wonderful, way, to,...</td>\n",
       "    </tr>\n",
       "    <tr>\n",
       "      <th>3</th>\n",
       "      <td>Basically there's a family where a little boy ...</td>\n",
       "      <td>negative</td>\n",
       "      <td>[Basically, there, 's, a, family, where, a, li...</td>\n",
       "      <td>[basically, there, 's, a, family, where, a, li...</td>\n",
       "    </tr>\n",
       "    <tr>\n",
       "      <th>4</th>\n",
       "      <td>Petter Mattei's \"Love in the Time of Money\" is...</td>\n",
       "      <td>positive</td>\n",
       "      <td>[Petter, Mattei, 's, ``, Love, in, the, Time, ...</td>\n",
       "      <td>[petter, mattei, 's, ``, love, in, the, time, ...</td>\n",
       "    </tr>\n",
       "  </tbody>\n",
       "</table>\n",
       "</div>"
      ],
      "text/plain": [
       "                                              review  ...                                       tokens_lower\n",
       "0  One of the other reviewers has mentioned that ...  ...  [one, of, the, other, reviewers, has, mentione...\n",
       "1  A wonderful little production. The filming tec...  ...  [a, wonderful, little, production, ., the, fil...\n",
       "2  I thought this was a wonderful way to spend ti...  ...  [i, thought, this, was, a, wonderful, way, to,...\n",
       "3  Basically there's a family where a little boy ...  ...  [basically, there, 's, a, family, where, a, li...\n",
       "4  Petter Mattei's \"Love in the Time of Money\" is...  ...  [petter, mattei, 's, ``, love, in, the, time, ...\n",
       "\n",
       "[5 rows x 4 columns]"
      ]
     },
     "execution_count": 22,
     "metadata": {},
     "output_type": "execute_result"
    }
   ],
   "source": [
    "#case folding\n",
    "df['tokens_lower'] = df['tokens'].apply(lambda x: [word.lower() for word in x])\n",
    "df.head()"
   ]
  },
  {
   "cell_type": "code",
   "execution_count": 23,
   "id": "37f0fd43",
   "metadata": {},
   "outputs": [
    {
     "name": "stdout",
     "output_type": "stream",
     "text": [
      "198\n"
     ]
    },
    {
     "data": {
      "text/plain": [
       "0     [one, reviewers, mentioned, watching, oz, epis...\n",
       "1     [wonderful, little, production, filming, techn...\n",
       "2     [thought, wonderful, way, spend, time, hot, su...\n",
       "3     [basically, family, little, boy, jake, thinks,...\n",
       "4     [petter, mattei, love, time, money, visually, ...\n",
       "5     [probably, favorite, movie, story, selflessnes...\n",
       "6     [sure, would, like, see, resurrection, dated, ...\n",
       "7     [show, amazing, fresh, innovative, idea, first...\n",
       "8     [encouraged, positive, comments, film, looking...\n",
       "9     [like, original, gut, wrenching, laughter, lik...\n",
       "10    [phil, alien, one, quirky, films, humour, base...\n",
       "11    [saw, movie, came, recall, scariest, scene, bi...\n",
       "12    [im, big, fan, boll, work, many, enjoyed, movi...\n",
       "13    [cast, played, appreciate, trying, bring, shak...\n",
       "14    [fantastic, movie, three, prisoners, become, f...\n",
       "15    [kind, drawn, erotic, scenes, realize, one, am...\n",
       "16    [films, simply, remade, one, bad, film, fails,...\n",
       "17    [movie, made, one, top, awful, movies, horribl...\n",
       "18    [remember, film, first, film, watched, cinema,...\n",
       "19    [awful, film, must, real, stinkers, nominated,...\n",
       "Name: tokens_nostopwords, dtype: object"
      ]
     },
     "execution_count": 23,
     "metadata": {},
     "output_type": "execute_result"
    }
   ],
   "source": [
    "#stop word removal\n",
    "from nltk.corpus import stopwords\n",
    "\n",
    "stopwords = set(stopwords.words('english'))\n",
    "print(len(stopwords))\n",
    "\n",
    "df['tokens_nostopwords'] = df['tokens_lower'].apply(lambda x: [word for word in  x if word.isalpha() and word not in stopwords]);\n",
    "df['tokens_nostopwords'].head(20)"
   ]
  },
  {
   "cell_type": "code",
   "execution_count": 24,
   "id": "4cbfdcb1",
   "metadata": {},
   "outputs": [
    {
     "data": {
      "text/plain": [
       "0    [one, review, mention, watch, oz, episod, hook...\n",
       "1    [wonder, littl, product, film, techniqu, fashi...\n",
       "2    [thought, wonder, way, spend, time, hot, summe...\n",
       "3    [basic, famili, littl, boy, jake, think, zombi...\n",
       "4    [petter, mattei, love, time, money, visual, st...\n",
       "5    [probabl, favorit, movi, stori, selfless, sacr...\n",
       "6    [sure, would, like, see, resurrect, date, seah...\n",
       "7    [show, amaz, fresh, innov, idea, first, air, f...\n",
       "8    [encourag, posit, comment, film, look, forward...\n",
       "9    [like, origin, gut, wrench, laughter, like, mo...\n",
       "Name: tokens_stemmed, dtype: object"
      ]
     },
     "execution_count": 24,
     "metadata": {},
     "output_type": "execute_result"
    }
   ],
   "source": [
    "#stemming\n",
    "\n",
    "from nltk.stem import PorterStemmer\n",
    "stemmer = PorterStemmer()\n",
    "df['tokens_stemmed'] = df['tokens_nostopwords'].apply(lambda x: [stemmer.stem(word) for word in x])\n",
    "df['tokens_stemmed'].head(10)"
   ]
  },
  {
   "cell_type": "code",
   "execution_count": 25,
   "id": "aae0af1c",
   "metadata": {},
   "outputs": [
    {
     "data": {
      "text/html": [
       "<div>\n",
       "<style scoped>\n",
       "    .dataframe tbody tr th:only-of-type {\n",
       "        vertical-align: middle;\n",
       "    }\n",
       "\n",
       "    .dataframe tbody tr th {\n",
       "        vertical-align: top;\n",
       "    }\n",
       "\n",
       "    .dataframe thead th {\n",
       "        text-align: right;\n",
       "    }\n",
       "</style>\n",
       "<table border=\"1\" class=\"dataframe\">\n",
       "  <thead>\n",
       "    <tr style=\"text-align: right;\">\n",
       "      <th></th>\n",
       "      <th>review</th>\n",
       "      <th>sentiment</th>\n",
       "      <th>tokens</th>\n",
       "      <th>tokens_lower</th>\n",
       "      <th>tokens_nostopwords</th>\n",
       "      <th>tokens_stemmed</th>\n",
       "      <th>tokens_lemmatized</th>\n",
       "    </tr>\n",
       "  </thead>\n",
       "  <tbody>\n",
       "    <tr>\n",
       "      <th>0</th>\n",
       "      <td>One of the other reviewers has mentioned that ...</td>\n",
       "      <td>positive</td>\n",
       "      <td>[One, of, the, other, reviewers, has, mentione...</td>\n",
       "      <td>[one, of, the, other, reviewers, has, mentione...</td>\n",
       "      <td>[one, reviewers, mentioned, watching, oz, epis...</td>\n",
       "      <td>[one, review, mention, watch, oz, episod, hook...</td>\n",
       "      <td>[one, reviewer, mentioned, watching, oz, episo...</td>\n",
       "    </tr>\n",
       "    <tr>\n",
       "      <th>1</th>\n",
       "      <td>A wonderful little production. The filming tec...</td>\n",
       "      <td>positive</td>\n",
       "      <td>[A, wonderful, little, production, ., The, fil...</td>\n",
       "      <td>[a, wonderful, little, production, ., the, fil...</td>\n",
       "      <td>[wonderful, little, production, filming, techn...</td>\n",
       "      <td>[wonder, littl, product, film, techniqu, fashi...</td>\n",
       "      <td>[wonderful, little, production, filming, techn...</td>\n",
       "    </tr>\n",
       "    <tr>\n",
       "      <th>2</th>\n",
       "      <td>I thought this was a wonderful way to spend ti...</td>\n",
       "      <td>positive</td>\n",
       "      <td>[I, thought, this, was, a, wonderful, way, to,...</td>\n",
       "      <td>[i, thought, this, was, a, wonderful, way, to,...</td>\n",
       "      <td>[thought, wonderful, way, spend, time, hot, su...</td>\n",
       "      <td>[thought, wonder, way, spend, time, hot, summe...</td>\n",
       "      <td>[thought, wonderful, way, spend, time, hot, su...</td>\n",
       "    </tr>\n",
       "    <tr>\n",
       "      <th>3</th>\n",
       "      <td>Basically there's a family where a little boy ...</td>\n",
       "      <td>negative</td>\n",
       "      <td>[Basically, there, 's, a, family, where, a, li...</td>\n",
       "      <td>[basically, there, 's, a, family, where, a, li...</td>\n",
       "      <td>[basically, family, little, boy, jake, thinks,...</td>\n",
       "      <td>[basic, famili, littl, boy, jake, think, zombi...</td>\n",
       "      <td>[basically, family, little, boy, jake, think, ...</td>\n",
       "    </tr>\n",
       "    <tr>\n",
       "      <th>4</th>\n",
       "      <td>Petter Mattei's \"Love in the Time of Money\" is...</td>\n",
       "      <td>positive</td>\n",
       "      <td>[Petter, Mattei, 's, ``, Love, in, the, Time, ...</td>\n",
       "      <td>[petter, mattei, 's, ``, love, in, the, time, ...</td>\n",
       "      <td>[petter, mattei, love, time, money, visually, ...</td>\n",
       "      <td>[petter, mattei, love, time, money, visual, st...</td>\n",
       "      <td>[petter, mattei, love, time, money, visually, ...</td>\n",
       "    </tr>\n",
       "    <tr>\n",
       "      <th>5</th>\n",
       "      <td>Probably my all-time favorite movie, a story o...</td>\n",
       "      <td>positive</td>\n",
       "      <td>[Probably, my, all-time, favorite, movie, ,, a...</td>\n",
       "      <td>[probably, my, all-time, favorite, movie, ,, a...</td>\n",
       "      <td>[probably, favorite, movie, story, selflessnes...</td>\n",
       "      <td>[probabl, favorit, movi, stori, selfless, sacr...</td>\n",
       "      <td>[probably, favorite, movie, story, selflessnes...</td>\n",
       "    </tr>\n",
       "    <tr>\n",
       "      <th>6</th>\n",
       "      <td>I sure would like to see a resurrection of a u...</td>\n",
       "      <td>positive</td>\n",
       "      <td>[I, sure, would, like, to, see, a, resurrectio...</td>\n",
       "      <td>[i, sure, would, like, to, see, a, resurrectio...</td>\n",
       "      <td>[sure, would, like, see, resurrection, dated, ...</td>\n",
       "      <td>[sure, would, like, see, resurrect, date, seah...</td>\n",
       "      <td>[sure, would, like, see, resurrection, dated, ...</td>\n",
       "    </tr>\n",
       "    <tr>\n",
       "      <th>7</th>\n",
       "      <td>This show was an amazing, fresh &amp; innovative i...</td>\n",
       "      <td>negative</td>\n",
       "      <td>[This, show, was, an, amazing, ,, fresh, &amp;, in...</td>\n",
       "      <td>[this, show, was, an, amazing, ,, fresh, &amp;, in...</td>\n",
       "      <td>[show, amazing, fresh, innovative, idea, first...</td>\n",
       "      <td>[show, amaz, fresh, innov, idea, first, air, f...</td>\n",
       "      <td>[show, amazing, fresh, innovative, idea, first...</td>\n",
       "    </tr>\n",
       "    <tr>\n",
       "      <th>8</th>\n",
       "      <td>Encouraged by the positive comments about this...</td>\n",
       "      <td>negative</td>\n",
       "      <td>[Encouraged, by, the, positive, comments, abou...</td>\n",
       "      <td>[encouraged, by, the, positive, comments, abou...</td>\n",
       "      <td>[encouraged, positive, comments, film, looking...</td>\n",
       "      <td>[encourag, posit, comment, film, look, forward...</td>\n",
       "      <td>[encouraged, positive, comment, film, looking,...</td>\n",
       "    </tr>\n",
       "    <tr>\n",
       "      <th>9</th>\n",
       "      <td>If you like original gut wrenching laughter yo...</td>\n",
       "      <td>positive</td>\n",
       "      <td>[If, you, like, original, gut, wrenching, laug...</td>\n",
       "      <td>[if, you, like, original, gut, wrenching, laug...</td>\n",
       "      <td>[like, original, gut, wrenching, laughter, lik...</td>\n",
       "      <td>[like, origin, gut, wrench, laughter, like, mo...</td>\n",
       "      <td>[like, original, gut, wrenching, laughter, lik...</td>\n",
       "    </tr>\n",
       "  </tbody>\n",
       "</table>\n",
       "</div>"
      ],
      "text/plain": [
       "                                              review  ...                                  tokens_lemmatized\n",
       "0  One of the other reviewers has mentioned that ...  ...  [one, reviewer, mentioned, watching, oz, episo...\n",
       "1  A wonderful little production. The filming tec...  ...  [wonderful, little, production, filming, techn...\n",
       "2  I thought this was a wonderful way to spend ti...  ...  [thought, wonderful, way, spend, time, hot, su...\n",
       "3  Basically there's a family where a little boy ...  ...  [basically, family, little, boy, jake, think, ...\n",
       "4  Petter Mattei's \"Love in the Time of Money\" is...  ...  [petter, mattei, love, time, money, visually, ...\n",
       "5  Probably my all-time favorite movie, a story o...  ...  [probably, favorite, movie, story, selflessnes...\n",
       "6  I sure would like to see a resurrection of a u...  ...  [sure, would, like, see, resurrection, dated, ...\n",
       "7  This show was an amazing, fresh & innovative i...  ...  [show, amazing, fresh, innovative, idea, first...\n",
       "8  Encouraged by the positive comments about this...  ...  [encouraged, positive, comment, film, looking,...\n",
       "9  If you like original gut wrenching laughter yo...  ...  [like, original, gut, wrenching, laughter, lik...\n",
       "\n",
       "[10 rows x 7 columns]"
      ]
     },
     "execution_count": 25,
     "metadata": {},
     "output_type": "execute_result"
    }
   ],
   "source": [
    "#Lemmatization\n",
    "from nltk.stem import WordNetLemmatizer\n",
    "\n",
    "lemmatizer = WordNetLemmatizer()\n",
    "df['tokens_lemmatized'] = df['tokens_nostopwords'].apply(lambda x: [lemmatizer.lemmatize(word) for word in x])\n",
    "df.head(10)"
   ]
  },
  {
   "cell_type": "code",
   "execution_count": 26,
   "id": "d7720ed5",
   "metadata": {},
   "outputs": [
    {
     "name": "stderr",
     "output_type": "stream",
     "text": [
      "[nltk_data] Downloading package averaged_perceptron_tagger_eng to\n",
      "[nltk_data]     /Users/aakashshrestha/nltk_data...\n",
      "[nltk_data]   Package averaged_perceptron_tagger_eng is already up-to-\n",
      "[nltk_data]       date!\n",
      "[nltk_data] Downloading package universal_tagset to\n",
      "[nltk_data]     /Users/aakashshrestha/nltk_data...\n",
      "[nltk_data]   Package universal_tagset is already up-to-date!\n"
     ]
    },
    {
     "data": {
      "text/plain": [
       "0    [(one, NUM), (reviewers, NOUN), (mentioned, VE...\n",
       "1    [(wonderful, ADJ), (little, ADJ), (production,...\n",
       "2    [(thought, VERB), (wonderful, ADJ), (way, NOUN...\n",
       "3    [(basically, ADV), (family, NOUN), (little, AD...\n",
       "4    [(petter, NOUN), (mattei, ADV), (love, ADJ), (...\n",
       "Name: pos_tags, dtype: object"
      ]
     },
     "execution_count": 26,
     "metadata": {},
     "output_type": "execute_result"
    }
   ],
   "source": [
    "#POS tagging and shallow parsing\n",
    "#POS -> Part of Speech, helps identify grammar roles like noun, verb.\n",
    "nltk.download('averaged_perceptron_tagger_eng')\n",
    "nltk.download('universal_tagset')\n",
    "df['pos_tags'] = df['tokens_nostopwords'].apply(lambda x: nltk.pos_tag(x, tagset='universal'));\n",
    "df['pos_tags'].head()\n",
    "\n",
    "#Shallow Parsing whahthththt\n",
    "\n",
    "# do it"
   ]
  },
  {
   "cell_type": "code",
   "execution_count": 27,
   "id": "c149f756",
   "metadata": {},
   "outputs": [
    {
     "name": "stdout",
     "output_type": "stream",
     "text": [
      "113041\n",
      "['one', 'reviewers', 'mentioned', 'watching', 'oz', 'episode', 'hooked', 'right', 'exactly', 'happened']\n",
      "<class 'collections.Counter'>\n"
     ]
    },
    {
     "data": {
      "image/png": "[encoded data removed]",
      "text/plain": [
       "<Figure size 1000x600 with 1 Axes>"
      ]
     },
     "metadata": {},
     "output_type": "display_data"
    }
   ],
   "source": [
    "#Zipf's Law\n",
    "from collections import Counter\n",
    "import matplotlib.pyplot as plt\n",
    "\n",
    "all_words = [word for tokens in df['tokens_nostopwords'] for word in tokens]\n",
    "print(len(all_words))\n",
    "print(all_words[:10])\n",
    "\n",
    "word_freq =Counter(all_words)\n",
    "print(type(word_freq))\n",
    "# print(word_freq)\n",
    "\n",
    "freqs = sorted(word_freq.values(), reverse=True) #sorted in descending order\n",
    "#words with higher frequency is lower rank, rank 1 -> highest fruquency...\n",
    "# print(freqs)\n",
    "\n",
    "plt.figure(figsize=(10,6))\n",
    "plt.loglog(freqs) #x and y axis both have logarithmic scale, large\n",
    "plt.title(\"Zipf's Law\")\n",
    "plt.xlabel(\"Rank of word\")\n",
    "plt.ylabel(\"Frequency of word\")\n",
    "plt.grid(True)\n",
    "plt.show()\n"
   ]
  },
  {
   "cell_type": "code",
   "execution_count": 28,
   "id": "dca05deb",
   "metadata": {},
   "outputs": [
    {
     "data": {
      "image/png": "[encoded data removed]",
      "text/plain": [
       "<Figure size 1000x600 with 1 Axes>"
      ]
     },
     "metadata": {},
     "output_type": "display_data"
    }
   ],
   "source": [
    "#Heaps Law\n",
    "\n",
    "import numpy as np\n",
    "\n",
    "def heaps_law(words):\n",
    "    vocab = set()\n",
    "    tokens = 0\n",
    "    vocab_sizes = []\n",
    "    token_counts = []\n",
    "    \n",
    "    for word in words:\n",
    "        tokens += 1\n",
    "        vocab.add(word)\n",
    "        if tokens % 100 == 0:\n",
    "            vocab_sizes.append(len(vocab))\n",
    "            token_counts.append(tokens)\n",
    "    return token_counts, vocab_sizes\n",
    "\n",
    "token_count, vocab_size = heaps_law(all_words)\n",
    "\n",
    "plt.figure(figsize=(10,6))\n",
    "plt.plot(token_count, vocab_size)\n",
    "plt.title(\"heaps' law\")\n",
    "plt.xlabel(\"Number of tokens\")\n",
    "plt.ylabel(\"Vocabulary size\")\n",
    "plt.grid(True)\n",
    "plt.show()"
   ]
  },
  {
   "cell_type": "code",
   "execution_count": 29,
   "id": "4eeaa29e",
   "metadata": {},
   "outputs": [
    {
     "name": "stdout",
     "output_type": "stream",
     "text": [
      "[[0.05430606 0.07157922 0.04811483 ... 0.0608508  0.13498898 0.07630606]\n",
      " [0.07703989 0.         0.13651371 ... 0.         0.06383288 0.        ]\n",
      " [0.         0.         0.         ... 0.         0.         0.        ]\n",
      " ...\n",
      " [0.         0.12790844 0.08597876 ... 0.         0.04020308 0.        ]\n",
      " [0.         0.         0.         ... 0.07005783 0.10360899 0.26355465]\n",
      " [0.03061485 0.         0.10849826 ... 0.         0.25366522 0.1720691 ]]\n"
     ]
    }
   ],
   "source": [
    "#Term Frequency- Inverse Document Frequency\n",
    "#TF-IDF\n",
    "#TF-> finds the frequency of word's appearance in document or entire colleciton of document\n",
    "#IDF -> determines how important a word is -> gives less importance to word that is frequent in many documents\n",
    "\n",
    "from sklearn.feature_extraction.text import TfidfVectorizer\n",
    "\n",
    "tfidf = TfidfVectorizer(max_features=100)\n",
    "tfidf_matrix = tfidf.fit_transform(df['review'])\n",
    "print(tfidf_matrix.toarray())\n"
   ]
  },
  {
   "cell_type": "code",
   "execution_count": 30,
   "id": "7e9309b8",
   "metadata": {},
   "outputs": [
    {
     "name": "stdout",
     "output_type": "stream",
     "text": [
      "{'mentioned': [0, 34, 48, 55, 114, 119, 142, 164, 173, 182, 260, 263, 362, 368, 464, 473, 518, 545, 556, 591, 672, 705, 767, 795, 851, 887, 898, 929, 972], 'oswald': [0, 173, 867], 'stares': [0, 887], 'say': [0, 2, 13, 16, 17, 21, 26, 28, 33, 35, 37, 40, 49, 59, 62, 72, 77, 89, 91, 99, 101, 110, 111, 136, 139, 142, 149, 164, 182, 183, 186, 192, 198, 204, 210, 225, 228, 235, 243, 251, 262, 263, 273, 280, 282, 287, 288, 297, 308, 314, 316, 322, 327, 339, 340, 346, 353, 354, 361, 362, 363, 366, 391, 395, 400, 405, 406, 409, 411, 419, 427, 428, 429, 435, 449, 453, 454, 475, 496, 499, 511, 513, 514, 516, 523, 526, 542, 543, 553, 560, 561, 563, 577, 599, 624, 630, 634, 637, 638, 641, 647, 651, 655, 657, 658, 664, 672, 673, 674, 676, 678, 685, 694, 695, 699, 702, 706, 713, 719, 720, 721, 734, 741, 744, 753, 754, 757, 763, 780, 784, 786, 790, 795, 802, 804, 809, 813, 824, 825, 829, 830, 836, 848, 857, 858, 865, 870, 875, 898, 902, 907, 911, 920, 925, 931, 948, 960, 971, 975, 982, 992, 993], 'pretty': [0, 10, 12, 15, 23, 30, 34, 37, 55, 71, 75, 77, 83, 88, 92, 99, 103, 109, 119, 128, 131, 142, 146, 159, 166, 168, 169, 181, 183, 196, 197, 210, 214, 227, 240, 244, 248, 257, 273, 277, 286, 287, 298, 346, 349, 350, 351, 381, 418, 419, 427, 429, 433, 442, 451, 463, 472, 474, 480, 481, 487, 488, 507, 512, 524, 546, 547, 553, 558, 566, 570, 577, 604, 610, 611, 622, 627, 629, 635, 636, 644, 649, 655, 659, 668, 681, 684, 688, 705, 712, 719, 726, 729, 743, 748, 767, 781, 797, 808, 809, 815, 819, 826, 828, 854, 858, 861, 870, 874, 875, 893, 898, 903, 917, 925, 937, 949, 962, 978, 979, 985, 991], 'around': [0, 10, 29, 35, 37, 42, 46, 50, 56, 66, 80, 83, 92, 93, 99, 108, 121, 131, 145, 156, 165, 172, 182, 189, 208, 227, 228, 231, 246, 255, 258, 259, 292, 295, 303, 310, 313, 364, 365, 366, 381, 400, 401, 418, 419, 422, 426, 438, 442, 454, 455, 457, 458, 472, 484, 487, 488, 496, 507, 526, 534, 544, 547, 558, 575, 587, 590, 605, 608, 630, 644, 647, 649, 652, 660, 677, 678, 686, 687, 689, 692, 702, 706, 714, 718, 729, 741, 751, 758, 761, 762, 765, 767, 790, 791, 803, 808, 814, 815, 824, 835, 872, 899, 903, 904, 936, 939, 942, 943, 947, 950, 971, 975, 977, 979, 982, 995, 999], 'crooked': [0, 343, 473, 585], 'watching': [0, 1, 2, 8, 28, 34, 39, 40, 50, 71, 80, 81, 83, 96, 98, 100, 111, 130, 133, 140, 144, 151, 154, 155, 161, 166, 175, 182, 194, 203, 205, 207, 208, 214, 217, 218, 219, 222, 239, 240, 247, 255, 259, 263, 266, 269, 275, 282, 285, 296, 316, 346, 349, 352, 353, 365, 404, 408, 414, 418, 427, 429, 433, 440, 444, 466, 469, 471, 473, 476, 477, 496, 499, 502, 508, 511, 514, 518, 534, 541, 552, 559, 564, 565, 568, 571, 577, 581, 591, 593, 595, 602, 615, 617, 618, 622, 633, 637, 649, 654, 657, 660, 661, 662, 664, 669, 672, 674, 681, 692, 696, 701, 702, 705, 713, 720, 721, 722, 727, 734, 749, 758, 774, 778, 788, 794, 797, 804, 806, 808, 827, 833, 843, 844, 846, 847, 848, 854, 855, 856, 858, 866, 867, 872, 875, 877, 884, 890, 892, 900, 903, 909, 918, 923, 924, 940, 941, 950, 954, 958, 965, 971, 985, 994], 'forget': [0, 20, 53, 85, 123, 194, 266, 273, 318, 363, 424, 433, 499, 550, 600, 635, 642, 688, 697, 736, 844, 875, 889, 899, 946], 'security': [0, 58, 315, 523, 590, 802]}\n"
     ]
    }
   ],
   "source": [
    "#Inverted Index\n",
    "#map word with document id, not the other way \n",
    "\n",
    "from collections import defaultdict\n",
    "\n",
    "inverted_index = defaultdict(list) #regular dict would throw an error if no index for a word\n",
    "\n",
    "for i, tokens in enumerate(df['tokens_nostopwords']):\n",
    "    for token in set(tokens):\n",
    "        inverted_index[token].append(i)\n",
    "        \n",
    "print(dict(list(inverted_index.items())[:10]))\n"
   ]
  }
 ],
 "metadata": {
  "kernelspec": {
   "display_name": "venv",
   "language": "python",
   "name": "python3"
  },
  "language_info": {
   "codemirror_mode": {
    "name": "ipython",
    "version": 3
   },
   "file_extension": ".py",
   "mimetype": "text/x-python",
   "name": "python",
   "nbconvert_exporter": "python",
   "pygments_lexer": "ipython3",
   "version": "3.11.3"
  }
 },
 "nbformat": 4,
 "nbformat_minor": 5
}
