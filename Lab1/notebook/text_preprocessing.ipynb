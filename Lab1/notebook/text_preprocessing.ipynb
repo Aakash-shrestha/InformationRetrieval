{
 "cells": [
  {
   "cell_type": "code",
   "execution_count": 37,
   "id": "f8058d6c",
   "metadata": {},
   "outputs": [],
   "source": [
    "import pandas as pd"
   ]
  },
  {
   "cell_type": "code",
   "execution_count": 38,
   "id": "00c1ddfc",
   "metadata": {},
   "outputs": [
    {
     "data": {
      "text/html": [
       "<div>\n",
       "<style scoped>\n",
       "    .dataframe tbody tr th:only-of-type {\n",
       "        vertical-align: middle;\n",
       "    }\n",
       "\n",
       "    .dataframe tbody tr th {\n",
       "        vertical-align: top;\n",
       "    }\n",
       "\n",
       "    .dataframe thead th {\n",
       "        text-align: right;\n",
       "    }\n",
       "</style>\n",
       "<table border=\"1\" class=\"dataframe\">\n",
       "  <thead>\n",
       "    <tr style=\"text-align: right;\">\n",
       "      <th></th>\n",
       "      <th>Employee Name</th>\n",
       "      <th>Review</th>\n",
       "    </tr>\n",
       "  </thead>\n",
       "  <tbody>\n",
       "    <tr>\n",
       "      <th>0</th>\n",
       "      <td>Scarlett</td>\n",
       "      <td>So happy with the hybrid work policy! &lt;u&gt;under...</td>\n",
       "    </tr>\n",
       "    <tr>\n",
       "      <th>1</th>\n",
       "      <td>Chloe</td>\n",
       "      <td>&lt;div&gt;division content&lt;/div&gt; The new intern is ...</td>\n",
       "    </tr>\n",
       "    <tr>\n",
       "      <th>2</th>\n",
       "      <td>Logan</td>\n",
       "      <td>&lt;code&gt;sample code&lt;/code&gt; The new intern is doi...</td>\n",
       "    </tr>\n",
       "    <tr>\n",
       "      <th>3</th>\n",
       "      <td>Nina</td>\n",
       "      <td>Great onboarding process! &lt;code&gt;sample code&lt;/c...</td>\n",
       "    </tr>\n",
       "    <tr>\n",
       "      <th>4</th>\n",
       "      <td>Emily</td>\n",
       "      <td>Can someone check the broken AC in meeting roo...</td>\n",
       "    </tr>\n",
       "    <tr>\n",
       "      <th>5</th>\n",
       "      <td>Ava</td>\n",
       "      <td>Loving the &lt;b&gt;bold text&lt;/b&gt; – makes everything...</td>\n",
       "    </tr>\n",
       "    <tr>\n",
       "      <th>6</th>\n",
       "      <td>Amelia</td>\n",
       "      <td>Loving the &lt;code&gt;sample code&lt;/code&gt; – makes ev...</td>\n",
       "    </tr>\n",
       "    <tr>\n",
       "      <th>7</th>\n",
       "      <td>Harper</td>\n",
       "      <td>WiFi is unstable in some zones &lt;i&gt;italic text&lt;/i&gt;</td>\n",
       "    </tr>\n",
       "    <tr>\n",
       "      <th>8</th>\n",
       "      <td>Daniel</td>\n",
       "      <td>Friday sessions are a great learning opportuni...</td>\n",
       "    </tr>\n",
       "    <tr>\n",
       "      <th>9</th>\n",
       "      <td>Mason</td>\n",
       "      <td>Too many overlapping tasks &lt;u&gt;underlined&lt;/u&gt;</td>\n",
       "    </tr>\n",
       "  </tbody>\n",
       "</table>\n",
       "</div>"
      ],
      "text/plain": [
       "  Employee Name                                             Review\n",
       "0      Scarlett  So happy with the hybrid work policy! <u>under...\n",
       "1         Chloe  <div>division content</div> The new intern is ...\n",
       "2         Logan  <code>sample code</code> The new intern is doi...\n",
       "3          Nina  Great onboarding process! <code>sample code</c...\n",
       "4         Emily  Can someone check the broken AC in meeting roo...\n",
       "5           Ava  Loving the <b>bold text</b> – makes everything...\n",
       "6        Amelia  Loving the <code>sample code</code> – makes ev...\n",
       "7        Harper  WiFi is unstable in some zones <i>italic text</i>\n",
       "8        Daniel  Friday sessions are a great learning opportuni...\n",
       "9         Mason       Too many overlapping tasks <u>underlined</u>"
      ]
     },
     "execution_count": 38,
     "metadata": {},
     "output_type": "execute_result"
    }
   ],
   "source": [
    "employee_reviews = pd.read_csv(\"../data/employee_reviews.csv\")\n",
    "employee_reviews.head(10)"
   ]
  },
  {
   "cell_type": "code",
   "execution_count": 39,
   "id": "ad9dc3f2",
   "metadata": {},
   "outputs": [
    {
     "data": {
      "text/plain": [
       "0     So happy with the hybrid work policy! underlined\n",
       "1    division content The new intern is doing great...\n",
       "2      sample code The new intern is doing great work.\n",
       "3              Great onboarding process! sample code 😤\n",
       "4    Can someone check the broken AC in meeting roo...\n",
       "Name: ReviewClean, dtype: object"
      ]
     },
     "execution_count": 39,
     "metadata": {},
     "output_type": "execute_result"
    }
   ],
   "source": [
    "#Renaming Html urls\n",
    "import re\n",
    "\n",
    "def clean_html_url(text):\n",
    "    #Remove html tags\n",
    "    text = re.sub(r'<.*?>','', text)\n",
    "    \n",
    "    #remove urls\n",
    "    text = re.sub(r'http\\S+|www\\S+|https\\S+', '', text)\n",
    "    return text\n",
    "\n",
    "employee_reviews['ReviewClean'] = employee_reviews['Review'].apply(clean_html_url)\n",
    "employee_reviews['ReviewClean'].head()\n",
    "    "
   ]
  },
  {
   "cell_type": "code",
   "execution_count": 42,
   "id": "fdb41566",
   "metadata": {},
   "outputs": [
    {
     "data": {
      "text/html": [
       "<div>\n",
       "<style scoped>\n",
       "    .dataframe tbody tr th:only-of-type {\n",
       "        vertical-align: middle;\n",
       "    }\n",
       "\n",
       "    .dataframe tbody tr th {\n",
       "        vertical-align: top;\n",
       "    }\n",
       "\n",
       "    .dataframe thead th {\n",
       "        text-align: right;\n",
       "    }\n",
       "</style>\n",
       "<table border=\"1\" class=\"dataframe\">\n",
       "  <thead>\n",
       "    <tr style=\"text-align: right;\">\n",
       "      <th></th>\n",
       "      <th>ReviewClean</th>\n",
       "      <th>ReviewNoEmoji</th>\n",
       "    </tr>\n",
       "  </thead>\n",
       "  <tbody>\n",
       "    <tr>\n",
       "      <th>0</th>\n",
       "      <td>So happy with the hybrid work policy! underlined</td>\n",
       "      <td>So happy with the hybrid work policy! underlined</td>\n",
       "    </tr>\n",
       "    <tr>\n",
       "      <th>1</th>\n",
       "      <td>division content The new intern is doing great...</td>\n",
       "      <td>division content The new intern is doing great...</td>\n",
       "    </tr>\n",
       "    <tr>\n",
       "      <th>2</th>\n",
       "      <td>sample code The new intern is doing great work.</td>\n",
       "      <td>sample code The new intern is doing great work.</td>\n",
       "    </tr>\n",
       "    <tr>\n",
       "      <th>3</th>\n",
       "      <td>Great onboarding process! sample code 😤</td>\n",
       "      <td>Great onboarding process! sample code</td>\n",
       "    </tr>\n",
       "    <tr>\n",
       "      <th>4</th>\n",
       "      <td>Can someone check the broken AC in meeting roo...</td>\n",
       "      <td>Can someone check the broken AC in meeting roo...</td>\n",
       "    </tr>\n",
       "  </tbody>\n",
       "</table>\n",
       "</div>"
      ],
      "text/plain": [
       "                                         ReviewClean  \\\n",
       "0   So happy with the hybrid work policy! underlined   \n",
       "1  division content The new intern is doing great...   \n",
       "2    sample code The new intern is doing great work.   \n",
       "3            Great onboarding process! sample code 😤   \n",
       "4  Can someone check the broken AC in meeting roo...   \n",
       "\n",
       "                                       ReviewNoEmoji  \n",
       "0   So happy with the hybrid work policy! underlined  \n",
       "1  division content The new intern is doing great...  \n",
       "2    sample code The new intern is doing great work.  \n",
       "3             Great onboarding process! sample code   \n",
       "4  Can someone check the broken AC in meeting roo...  "
      ]
     },
     "execution_count": 42,
     "metadata": {},
     "output_type": "execute_result"
    }
   ],
   "source": [
    "import re\n",
    "\n",
    "def remove_emoji(text):\n",
    "    emoji_pattern = re.compile(\n",
    "        \"[\"\n",
    "        u\"\\U0001F600-\\U0001F64F\"  # emoticons\n",
    "        u\"\\U0001F300-\\U0001F5FF\"  # symbols & pictographs\n",
    "        u\"\\U0001F680-\\U0001F6FF\"  # transport & map symbols\n",
    "        u\"\\U0001F1E0-\\U0001F1FF\"  # flags (iOS)\n",
    "        u\"\\U00002700-\\U000027BF\"  # Dingbats\n",
    "        u\"\\U000024C2-\\U0001F251\"\n",
    "        \"]+\", flags=re.UNICODE)\n",
    "    return emoji_pattern.sub(r'', text)\n",
    "\n",
    "employee_reviews['ReviewNoEmoji'] = employee_reviews['ReviewClean'].apply(remove_emoji)\n",
    "employee_reviews[['ReviewClean', 'ReviewNoEmoji']].head()"
   ]
  },
  {
   "cell_type": "code",
   "execution_count": 43,
   "id": "d105a39c",
   "metadata": {},
   "outputs": [
    {
     "data": {
      "text/plain": [
       "0    [So, happy, with, the, hybrid, work, policy, !...\n",
       "1    [division, content, The, new, intern, is, doin...\n",
       "2    [sample, code, The, new, intern, is, doing, gr...\n",
       "3        [Great, onboarding, process, !, sample, code]\n",
       "4    [Can, someone, check, the, broken, AC, in, mee...\n",
       "Name: Tokens, dtype: object"
      ]
     },
     "execution_count": 43,
     "metadata": {},
     "output_type": "execute_result"
    }
   ],
   "source": [
    "import nltk\n",
    "from nltk.tokenize import word_tokenize\n",
    "\n",
    "employee_reviews['Tokens'] = employee_reviews['ReviewNoEmoji'].apply(lambda x: word_tokenize(x))\n",
    "employee_reviews['Tokens'].head()\n"
   ]
  },
  {
   "cell_type": "code",
   "execution_count": 50,
   "id": "29d46271",
   "metadata": {},
   "outputs": [
    {
     "data": {
      "text/plain": [
       "0    [So, happy, with, the, hybrid, work, policy, !...\n",
       "Name: Tokens, dtype: object"
      ]
     },
     "execution_count": 50,
     "metadata": {},
     "output_type": "execute_result"
    }
   ],
   "source": [
    "# cols_to_drop =['ReviewEmoji']\n",
    "# employee_reviews = employee_reviews.drop(columns=cols_to_drop)\n",
    "employee_reviews['Tokens'].head(1)"
   ]
  },
  {
   "cell_type": "code",
   "execution_count": 51,
   "id": "7d79fe1f",
   "metadata": {},
   "outputs": [
    {
     "data": {
      "text/html": [
       "<div>\n",
       "<style scoped>\n",
       "    .dataframe tbody tr th:only-of-type {\n",
       "        vertical-align: middle;\n",
       "    }\n",
       "\n",
       "    .dataframe tbody tr th {\n",
       "        vertical-align: top;\n",
       "    }\n",
       "\n",
       "    .dataframe thead th {\n",
       "        text-align: right;\n",
       "    }\n",
       "</style>\n",
       "<table border=\"1\" class=\"dataframe\">\n",
       "  <thead>\n",
       "    <tr style=\"text-align: right;\">\n",
       "      <th></th>\n",
       "      <th>Employee Name</th>\n",
       "      <th>Review</th>\n",
       "      <th>ReviewClean</th>\n",
       "      <th>ReviewNoEmoji</th>\n",
       "      <th>Tokens</th>\n",
       "      <th>TokensLower</th>\n",
       "    </tr>\n",
       "  </thead>\n",
       "  <tbody>\n",
       "    <tr>\n",
       "      <th>0</th>\n",
       "      <td>Scarlett</td>\n",
       "      <td>So happy with the hybrid work policy! &lt;u&gt;under...</td>\n",
       "      <td>So happy with the hybrid work policy! underlined</td>\n",
       "      <td>So happy with the hybrid work policy! underlined</td>\n",
       "      <td>[So, happy, with, the, hybrid, work, policy, !...</td>\n",
       "      <td>[so, happy, with, the, hybrid, work, policy, !...</td>\n",
       "    </tr>\n",
       "    <tr>\n",
       "      <th>1</th>\n",
       "      <td>Chloe</td>\n",
       "      <td>&lt;div&gt;division content&lt;/div&gt; The new intern is ...</td>\n",
       "      <td>division content The new intern is doing great...</td>\n",
       "      <td>division content The new intern is doing great...</td>\n",
       "      <td>[division, content, The, new, intern, is, doin...</td>\n",
       "      <td>[division, content, the, new, intern, is, doin...</td>\n",
       "    </tr>\n",
       "    <tr>\n",
       "      <th>2</th>\n",
       "      <td>Logan</td>\n",
       "      <td>&lt;code&gt;sample code&lt;/code&gt; The new intern is doi...</td>\n",
       "      <td>sample code The new intern is doing great work.</td>\n",
       "      <td>sample code The new intern is doing great work.</td>\n",
       "      <td>[sample, code, The, new, intern, is, doing, gr...</td>\n",
       "      <td>[sample, code, the, new, intern, is, doing, gr...</td>\n",
       "    </tr>\n",
       "    <tr>\n",
       "      <th>3</th>\n",
       "      <td>Nina</td>\n",
       "      <td>Great onboarding process! &lt;code&gt;sample code&lt;/c...</td>\n",
       "      <td>Great onboarding process! sample code 😤</td>\n",
       "      <td>Great onboarding process! sample code</td>\n",
       "      <td>[Great, onboarding, process, !, sample, code]</td>\n",
       "      <td>[great, onboarding, process, !, sample, code]</td>\n",
       "    </tr>\n",
       "    <tr>\n",
       "      <th>4</th>\n",
       "      <td>Emily</td>\n",
       "      <td>Can someone check the broken AC in meeting roo...</td>\n",
       "      <td>Can someone check the broken AC in meeting roo...</td>\n",
       "      <td>Can someone check the broken AC in meeting roo...</td>\n",
       "      <td>[Can, someone, check, the, broken, AC, in, mee...</td>\n",
       "      <td>[can, someone, check, the, broken, ac, in, mee...</td>\n",
       "    </tr>\n",
       "  </tbody>\n",
       "</table>\n",
       "</div>"
      ],
      "text/plain": [
       "  Employee Name                                             Review  \\\n",
       "0      Scarlett  So happy with the hybrid work policy! <u>under...   \n",
       "1         Chloe  <div>division content</div> The new intern is ...   \n",
       "2         Logan  <code>sample code</code> The new intern is doi...   \n",
       "3          Nina  Great onboarding process! <code>sample code</c...   \n",
       "4         Emily  Can someone check the broken AC in meeting roo...   \n",
       "\n",
       "                                         ReviewClean  \\\n",
       "0   So happy with the hybrid work policy! underlined   \n",
       "1  division content The new intern is doing great...   \n",
       "2    sample code The new intern is doing great work.   \n",
       "3            Great onboarding process! sample code 😤   \n",
       "4  Can someone check the broken AC in meeting roo...   \n",
       "\n",
       "                                       ReviewNoEmoji  \\\n",
       "0   So happy with the hybrid work policy! underlined   \n",
       "1  division content The new intern is doing great...   \n",
       "2    sample code The new intern is doing great work.   \n",
       "3             Great onboarding process! sample code    \n",
       "4  Can someone check the broken AC in meeting roo...   \n",
       "\n",
       "                                              Tokens  \\\n",
       "0  [So, happy, with, the, hybrid, work, policy, !...   \n",
       "1  [division, content, The, new, intern, is, doin...   \n",
       "2  [sample, code, The, new, intern, is, doing, gr...   \n",
       "3      [Great, onboarding, process, !, sample, code]   \n",
       "4  [Can, someone, check, the, broken, AC, in, mee...   \n",
       "\n",
       "                                         TokensLower  \n",
       "0  [so, happy, with, the, hybrid, work, policy, !...  \n",
       "1  [division, content, the, new, intern, is, doin...  \n",
       "2  [sample, code, the, new, intern, is, doing, gr...  \n",
       "3      [great, onboarding, process, !, sample, code]  \n",
       "4  [can, someone, check, the, broken, ac, in, mee...  "
      ]
     },
     "execution_count": 51,
     "metadata": {},
     "output_type": "execute_result"
    }
   ],
   "source": [
    "#lower casing\n",
    "employee_reviews['TokensLower'] = employee_reviews['Tokens'].apply(lambda x: [word.lower() for word in x])\n",
    "employee_reviews.head()"
   ]
  }
 ],
 "metadata": {
  "kernelspec": {
   "display_name": "venv",
   "language": "python",
   "name": "python3"
  },
  "language_info": {
   "codemirror_mode": {
    "name": "ipython",
    "version": 3
   },
   "file_extension": ".py",
   "mimetype": "text/x-python",
   "name": "python",
   "nbconvert_exporter": "python",
   "pygments_lexer": "ipython3",
   "version": "3.11.3"
  }
 },
 "nbformat": 4,
 "nbformat_minor": 5
}
